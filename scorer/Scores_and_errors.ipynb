{
 "cells": [
  {
   "cell_type": "code",
   "execution_count": 10,
   "metadata": {},
   "outputs": [
    {
     "name": "stdout",
     "output_type": "stream",
     "text": [
      "muc \tR:  30.71 \tP:  41.26 \tF1:  34.02\n",
      "bcub \tR:  22.43 \tP:  33.91 \tF1:  25.74\n",
      "ceafm \tR:  28.94 \tP:  37.99 \tF1:  31.93\n",
      "ceafe \tR:  28.14 \tP:  33.8 \tF1:  29.77\n"
     ]
    }
   ],
   "source": [
    "import re\n",
    "\n",
    "with open('result.txt', 'r', encoding='utf-8') as f:\n",
    "    data = f.readlines()\n",
    "    \n",
    "    \n",
    "metric = ''\n",
    "files = {}\n",
    "for line in data:\n",
    "    if line.startswith('METRIC'):\n",
    "        metric = re.search(' (.*):', line).group(1)\n",
    "        if metric not in files.keys():\n",
    "            files[metric] = {\n",
    "                'recall': [],\n",
    "                'precision': [],\n",
    "                'f1': []\n",
    "            }\n",
    "        continue\n",
    "    if line.startswith('Recall'):\n",
    "        nums = re.findall(' ([\\d.]{0,5})\\%', line)\n",
    "        if float(nums[0]) != 0 and float(nums[1]) != 0 and float(nums[2]) != 0:\n",
    "            files[metric]['recall'].append(float(nums[0]))\n",
    "            files[metric]['precision'].append(float(nums[1]))\n",
    "            files[metric]['f1'].append(float(nums[2]))\n",
    "        \n",
    "for m in files.keys():\n",
    "    r = sum(files[m]['recall'])/len(files[m]['recall'])\n",
    "    p = sum(files[m]['precision'])/len(files[m]['precision'])\n",
    "    f = sum(files[m]['f1'])/len(files[m]['f1'])\n",
    "    print(m, '\\tR: ', round(r, 2), '\\tP: ', round(p, 2), '\\tF1: ', round(f, 2))"
   ]
  },
  {
   "cell_type": "code",
   "execution_count": 2,
   "metadata": {},
   "outputs": [],
   "source": [
    "import os\n",
    "\n",
    "def merge_files(path_in, path_out):\n",
    "    if os.path.exists(path_out):\n",
    "        os.remove(path_out)\n",
    "        \n",
    "    for doc in os.listdir(path_in):\n",
    "        # read the file as string\n",
    "        with open(os.path.join(path_in, doc), 'r', encoding='utf-8') as f:\n",
    "            data = f.read()\n",
    "        # append the data to the output file\n",
    "        with open(path_out, 'a', encoding='utf-8') as f:\n",
    "            f.write(data+'\\n')"
   ]
  },
  {
   "cell_type": "code",
   "execution_count": 3,
   "metadata": {},
   "outputs": [],
   "source": [
    "merge_files('.\\\\cort\\\\key', '.\\\\cort\\\\key.conll')\n",
    "merge_files('.\\\\cort\\\\response', '.\\\\cort\\\\response.conll')\n",
    "merge_files('.\\\\cort\\\\key_ontonotes', '.\\\\cort\\\\key_ontonotes.conll')\n",
    "merge_files('.\\\\cort\\\\response_ontonotes', '.\\\\cort\\\\response_ontonotes.conll')"
   ]
  },
  {
   "cell_type": "code",
   "execution_count": 4,
   "metadata": {},
   "outputs": [
    {
     "ename": "IndexError",
     "evalue": "list index out of range",
     "output_type": "error",
     "traceback": [
      "\u001b[1;31m---------------------------------------------------------------------------\u001b[0m",
      "\u001b[1;31mIndexError\u001b[0m                                Traceback (most recent call last)",
      "\u001b[1;32m<ipython-input-4-6e4090a58922>\u001b[0m in \u001b[0;36m<module>\u001b[1;34m\u001b[0m\n\u001b[0;32m      1\u001b[0m \u001b[1;32mfrom\u001b[0m \u001b[0mcort\u001b[0m\u001b[1;33m.\u001b[0m\u001b[0mcore\u001b[0m \u001b[1;32mimport\u001b[0m \u001b[0mcorpora\u001b[0m\u001b[1;33m\u001b[0m\u001b[1;33m\u001b[0m\u001b[0m\n\u001b[0;32m      2\u001b[0m \u001b[1;33m\u001b[0m\u001b[0m\n\u001b[1;32m----> 3\u001b[1;33m \u001b[0mreference\u001b[0m \u001b[1;33m=\u001b[0m \u001b[0mcorpora\u001b[0m\u001b[1;33m.\u001b[0m\u001b[0mCorpus\u001b[0m\u001b[1;33m.\u001b[0m\u001b[0mfrom_file\u001b[0m\u001b[1;33m(\u001b[0m\u001b[1;34m\"key\"\u001b[0m\u001b[1;33m,\u001b[0m \u001b[0mopen\u001b[0m\u001b[1;33m(\u001b[0m\u001b[1;34m'.\\\\cort\\\\key_ontonotes.conll'\u001b[0m\u001b[1;33m)\u001b[0m\u001b[1;33m)\u001b[0m\u001b[1;33m\u001b[0m\u001b[1;33m\u001b[0m\u001b[0m\n\u001b[0m\u001b[0;32m      4\u001b[0m \u001b[0mpair\u001b[0m \u001b[1;33m=\u001b[0m \u001b[0mcorpora\u001b[0m\u001b[1;33m.\u001b[0m\u001b[0mCorpus\u001b[0m\u001b[1;33m.\u001b[0m\u001b[0mfrom_file\u001b[0m\u001b[1;33m(\u001b[0m\u001b[1;34m\"response\"\u001b[0m\u001b[1;33m,\u001b[0m \u001b[0mopen\u001b[0m\u001b[1;33m(\u001b[0m\u001b[1;34m'.\\\\cort\\\\response_ontonotes.conll'\u001b[0m\u001b[1;33m)\u001b[0m\u001b[1;33m)\u001b[0m\u001b[1;33m\u001b[0m\u001b[1;33m\u001b[0m\u001b[0m\n\u001b[0;32m      5\u001b[0m \u001b[1;33m\u001b[0m\u001b[0m\n",
      "\u001b[1;32m~\\Anaconda3\\lib\\site-packages\\cort\\core\\corpora.py\u001b[0m in \u001b[0;36mfrom_file\u001b[1;34m(description, coref_file)\u001b[0m\n\u001b[0;32m     77\u001b[0m \u001b[1;33m\u001b[0m\u001b[0m\n\u001b[0;32m     78\u001b[0m         return Corpus(description, sorted([from_string(doc) for doc in\n\u001b[1;32m---> 79\u001b[1;33m                                            document_as_strings]))\n\u001b[0m\u001b[0;32m     80\u001b[0m \u001b[1;33m\u001b[0m\u001b[0m\n\u001b[0;32m     81\u001b[0m \u001b[1;33m\u001b[0m\u001b[0m\n",
      "\u001b[1;32m~\\Anaconda3\\lib\\site-packages\\cort\\core\\corpora.py\u001b[0m in \u001b[0;36m<listcomp>\u001b[1;34m(.0)\u001b[0m\n\u001b[0;32m     76\u001b[0m         \u001b[0mdocument_as_strings\u001b[0m\u001b[1;33m.\u001b[0m\u001b[0mappend\u001b[0m\u001b[1;33m(\u001b[0m\u001b[0mcurrent_document\u001b[0m\u001b[1;33m)\u001b[0m\u001b[1;33m\u001b[0m\u001b[1;33m\u001b[0m\u001b[0m\n\u001b[0;32m     77\u001b[0m \u001b[1;33m\u001b[0m\u001b[0m\n\u001b[1;32m---> 78\u001b[1;33m         return Corpus(description, sorted([from_string(doc) for doc in\n\u001b[0m\u001b[0;32m     79\u001b[0m                                            document_as_strings]))\n\u001b[0;32m     80\u001b[0m \u001b[1;33m\u001b[0m\u001b[0m\n",
      "\u001b[1;32m~\\Anaconda3\\lib\\site-packages\\cort\\core\\corpora.py\u001b[0m in \u001b[0;36mfrom_string\u001b[1;34m(string)\u001b[0m\n\u001b[0;32m     12\u001b[0m \u001b[1;33m\u001b[0m\u001b[0m\n\u001b[0;32m     13\u001b[0m \u001b[1;32mdef\u001b[0m \u001b[0mfrom_string\u001b[0m\u001b[1;33m(\u001b[0m\u001b[0mstring\u001b[0m\u001b[1;33m)\u001b[0m\u001b[1;33m:\u001b[0m\u001b[1;33m\u001b[0m\u001b[1;33m\u001b[0m\u001b[0m\n\u001b[1;32m---> 14\u001b[1;33m     \u001b[1;32mreturn\u001b[0m \u001b[0mdocuments\u001b[0m\u001b[1;33m.\u001b[0m\u001b[0mCoNLLDocument\u001b[0m\u001b[1;33m(\u001b[0m\u001b[0mstring\u001b[0m\u001b[1;33m)\u001b[0m\u001b[1;33m\u001b[0m\u001b[1;33m\u001b[0m\u001b[0m\n\u001b[0m\u001b[0;32m     15\u001b[0m \u001b[1;33m\u001b[0m\u001b[0m\n\u001b[0;32m     16\u001b[0m \u001b[1;33m\u001b[0m\u001b[0m\n",
      "\u001b[1;32m~\\Anaconda3\\lib\\site-packages\\cort\\core\\documents.py\u001b[0m in \u001b[0;36m__init__\u001b[1;34m(self, document_as_string)\u001b[0m\n\u001b[0;32m    378\u001b[0m         self.document_table = CoNLLDocument.__string_to_table(\n\u001b[0;32m    379\u001b[0m             document_as_string)\n\u001b[1;32m--> 380\u001b[1;33m         \u001b[0min_sentence_ids\u001b[0m \u001b[1;33m=\u001b[0m \u001b[1;33m[\u001b[0m\u001b[0mint\u001b[0m\u001b[1;33m(\u001b[0m\u001b[0mi\u001b[0m\u001b[1;33m)\u001b[0m \u001b[1;32mfor\u001b[0m \u001b[0mi\u001b[0m \u001b[1;32min\u001b[0m \u001b[0mself\u001b[0m\u001b[1;33m.\u001b[0m\u001b[0m__extract_from_column\u001b[0m\u001b[1;33m(\u001b[0m\u001b[1;36m2\u001b[0m\u001b[1;33m)\u001b[0m\u001b[1;33m]\u001b[0m\u001b[1;33m\u001b[0m\u001b[1;33m\u001b[0m\u001b[0m\n\u001b[0m\u001b[0;32m    381\u001b[0m         \u001b[0mindexing_start\u001b[0m \u001b[1;33m=\u001b[0m \u001b[0min_sentence_ids\u001b[0m\u001b[1;33m[\u001b[0m\u001b[1;36m0\u001b[0m\u001b[1;33m]\u001b[0m\u001b[1;33m\u001b[0m\u001b[1;33m\u001b[0m\u001b[0m\n\u001b[0;32m    382\u001b[0m         \u001b[1;32mif\u001b[0m \u001b[0mindexing_start\u001b[0m \u001b[1;33m!=\u001b[0m \u001b[1;36m0\u001b[0m\u001b[1;33m:\u001b[0m\u001b[1;33m\u001b[0m\u001b[1;33m\u001b[0m\u001b[0m\n",
      "\u001b[1;32m~\\Anaconda3\\lib\\site-packages\\cort\\core\\documents.py\u001b[0m in \u001b[0;36m__extract_from_column\u001b[1;34m(self, column)\u001b[0m\n\u001b[0;32m    417\u001b[0m         \u001b[0mentries\u001b[0m \u001b[1;33m=\u001b[0m \u001b[1;33m[\u001b[0m\u001b[1;33m]\u001b[0m\u001b[1;33m\u001b[0m\u001b[1;33m\u001b[0m\u001b[0m\n\u001b[0;32m    418\u001b[0m         \u001b[1;32mfor\u001b[0m \u001b[0mline\u001b[0m \u001b[1;32min\u001b[0m \u001b[0mself\u001b[0m\u001b[1;33m.\u001b[0m\u001b[0mdocument_table\u001b[0m\u001b[1;33m:\u001b[0m\u001b[1;33m\u001b[0m\u001b[1;33m\u001b[0m\u001b[0m\n\u001b[1;32m--> 419\u001b[1;33m             \u001b[0mentries\u001b[0m\u001b[1;33m.\u001b[0m\u001b[0mappend\u001b[0m\u001b[1;33m(\u001b[0m\u001b[0mline\u001b[0m\u001b[1;33m[\u001b[0m\u001b[0mcolumn\u001b[0m\u001b[1;33m]\u001b[0m\u001b[1;33m)\u001b[0m\u001b[1;33m\u001b[0m\u001b[1;33m\u001b[0m\u001b[0m\n\u001b[0m\u001b[0;32m    420\u001b[0m \u001b[1;33m\u001b[0m\u001b[0m\n\u001b[0;32m    421\u001b[0m         \u001b[1;32mreturn\u001b[0m \u001b[0mentries\u001b[0m\u001b[1;33m\u001b[0m\u001b[1;33m\u001b[0m\u001b[0m\n",
      "\u001b[1;31mIndexError\u001b[0m: list index out of range"
     ]
    }
   ],
   "source": [
    "from cort.core import corpora\n",
    "\n",
    "reference = corpora.Corpus.from_file(\"key\", open('.\\\\cort\\\\key_ontonotes.conll'))\n",
    "pair = corpora.Corpus.from_file(\"response\", open('.\\\\cort\\\\response_ontonotes.conll'))\n",
    "\n"
   ]
  },
  {
   "cell_type": "code",
   "execution_count": null,
   "metadata": {},
   "outputs": [],
   "source": []
  }
 ],
 "metadata": {
  "kernelspec": {
   "display_name": "Python 3",
   "language": "python",
   "name": "python3"
  },
  "language_info": {
   "codemirror_mode": {
    "name": "ipython",
    "version": 3
   },
   "file_extension": ".py",
   "mimetype": "text/x-python",
   "name": "python",
   "nbconvert_exporter": "python",
   "pygments_lexer": "ipython3",
   "version": "3.7.4"
  }
 },
 "nbformat": 4,
 "nbformat_minor": 2
}
